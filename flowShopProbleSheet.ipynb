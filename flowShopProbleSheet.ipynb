{
 "cells": [
  {
   "cell_type": "code",
   "execution_count": 21,
   "metadata": {},
   "outputs": [
    {
     "data": {
      "text/plain": [
       "DataFrame(n_jobs=20, m_machines=5, init_seed=379008056, up_bound=1359, low_bound=1290, processing_time=array([[26., 38., 27., 88., 95., 55., 54., 63., 23., 45., 86., 43., 43.,\n",
       "        40., 37., 54., 35., 59., 43., 50.],\n",
       "       [59., 62., 44., 10., 23., 64., 47., 68., 54.,  9., 30., 31., 92.,\n",
       "         7., 14., 95., 76., 82., 91., 37.],\n",
       "       [78., 90., 64., 49., 47., 20., 61., 93., 36., 47., 70., 54., 87.,\n",
       "        13., 40., 34., 55., 13., 11.,  5.],\n",
       "       [88., 54., 47., 83., 84.,  9., 30., 11., 92., 63., 62., 75., 48.,\n",
       "        23., 85., 23.,  4., 31., 13., 98.],\n",
       "       [69., 30., 61., 35., 53., 98., 94., 33., 77., 31., 54., 71., 78.,\n",
       "         9., 79., 51., 76., 56., 80., 72.]]))"
      ]
     },
     "execution_count": 21,
     "metadata": {},
     "output_type": "execute_result"
    }
   ],
   "source": [
    "import flow_shop as fs\n",
    "\n",
    "df = fs.DatasetReader('database/tai20_5.txt').read_data(0)\n",
    "df"
   ]
  }
 ],
 "metadata": {
  "kernelspec": {
   "display_name": "Python 3.8.10 ('venv': venv)",
   "language": "python",
   "name": "python3"
  },
  "language_info": {
   "codemirror_mode": {
    "name": "ipython",
    "version": 3
   },
   "file_extension": ".py",
   "mimetype": "text/x-python",
   "name": "python",
   "nbconvert_exporter": "python",
   "pygments_lexer": "ipython3",
   "version": "3.8.10"
  },
  "orig_nbformat": 4,
  "vscode": {
   "interpreter": {
    "hash": "7e75d79e883c866ddabbc32950227de110813405bebf21600477bbcac5ee203e"
   }
  }
 },
 "nbformat": 4,
 "nbformat_minor": 2
}
