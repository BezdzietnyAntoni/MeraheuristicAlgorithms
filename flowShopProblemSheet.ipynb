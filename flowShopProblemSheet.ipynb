{
 "cells": [
  {
   "cell_type": "code",
   "execution_count": 1,
   "metadata": {},
   "outputs": [
    {
     "data": {
      "image/png": "[encoded data removed]",
      "text/plain": [
       "<Figure size 640x480 with 1 Axes>"
      ]
     },
     "metadata": {},
     "output_type": "display_data"
    }
   ],
   "source": [
    "import flow_shop as fs\n",
    "\n",
    "#Read and display data \n",
    "df = fs.DatasetReader('database/tai20_5.txt').read_data(1)\n",
    "\n",
    "c_t, c_a = fs.calculate_completion_time(df, return_comp_arr=True)\n",
    "fs.display_graph(df, c_t, c_a)\n"
   ]
  },
  {
   "cell_type": "code",
   "execution_count": 2,
   "metadata": {},
   "outputs": [],
   "source": [
    "# All possible neighborhood transformation\n",
    "TRANSFORMS = {\n",
    "    0: fs.swap,\n",
    "    1: fs.reverse_subsequence,\n",
    "    2: fs.insert_before,\n",
    "    3: fs.insert_after\n",
    "}\n",
    "\n",
    "TRANSFORMS_KEYS = list(TRANSFORMS.keys())"
   ]
  },
  {
   "cell_type": "markdown",
   "metadata": {},
   "source": [
    "![Tabu Search Flow Diagram](doc/img/TabuSearch.png \"Tabu Search\")"
   ]
  },
  {
   "cell_type": "code",
   "execution_count": 3,
   "metadata": {},
   "outputs": [],
   "source": [
    "# Trial implementation Tabu Search \n",
    "import random\n",
    "\n",
    "def generate_n_different_value(n_values: int, min_value: int, max_value: int):\n",
    "    if (max_value - min_value + 1) < n_values:\n",
    "        raise ValueError(\"Incorrect range value\")\n",
    "\n",
    "    values = list()\n",
    "    while len(values) < n_values:\n",
    "        value = random.randint(min_value, max_value)\n",
    "        if value not in values:\n",
    "            values.append(value)\n",
    "    \n",
    "    return values\n",
    "\n",
    "\n",
    "def generate_neighbor_options(n_jobs):    \n",
    "    action = random.choice(TRANSFORMS_KEYS) # Roll action on set\n",
    "    indexes = generate_n_different_value(2, 0, n_jobs-1) # Roll 2 indexes\n",
    "    if action in [0,1]: #If action is fs.swap or fs.reverse_subsequence then sort indexes\n",
    "        indexes.sort()\n",
    "\n",
    "    return {'action': action, 'indexes': indexes}\n",
    "\n",
    "\n",
    "class TabuList:\n",
    "    def __init__(self, length: int) -> None:\n",
    "        self.length = length\n",
    "        self.tabu_list = [{'action': 0, 'indexes': [0,0]} for i in range(length)]\n",
    "        self.current_index = 0 \n",
    "\n",
    "    def __contains__(self, operation):\n",
    "        return operation in self.tabu_list\n",
    "\n",
    "    def push(self, operation: dict):\n",
    "        self.tabu_list[self.current_index] = operation\n",
    "        self.current_index = (self.current_index+1)%self.length"
   ]
  },
  {
   "cell_type": "code",
   "execution_count": 4,
   "metadata": {},
   "outputs": [],
   "source": [
    "x = df.processing_time.copy() #Starting solution\n",
    "x_best = x.copy() # Best solution\n",
    "t_best = fs.calculate_completion_time(x_best, df.n_jobs, df.m_machines) # Time of best solution\n",
    "\n",
    "tabu_list = TabuList(8)\n",
    "neighbor_size = 20 # Should be bigger than tabu list\n",
    "\n",
    "aspiration_criterial = 10 # Better than best solution mor than aspiration_criterial\n",
    "\n",
    "for _ in range(1000):\n",
    "    #Generate neighbor solutions\n",
    "    neighbor_actions = [generate_neighbor_options(df.n_jobs) for _ in range(neighbor_size)]\n",
    "    neighbor_time = [1e6 for _ in range(neighbor_size)]\n",
    "    for i, action in enumerate(neighbor_actions):\n",
    "        xp = TRANSFORMS[action['action']](x, action['indexes'][0],action['indexes'][1])\n",
    "        neighbor_time[i] = fs.calculate_completion_time(xp, df.n_jobs, df.m_machines)  # type: ignore\n",
    "\n",
    "    # Found best neighbor solutions\n",
    "    founded_best_neighbor = False\n",
    "    while len(neighbor_time) > 0 and not founded_best_neighbor:\n",
    "        best_neighbor_idx = neighbor_time.index(min(neighbor_time))\n",
    "        if neighbor_actions[best_neighbor_idx] in tabu_list:\n",
    "            if (neighbor_time[best_neighbor_idx]+aspiration_criterial) < t_best:  # type: ignore\n",
    "                founded_best_neighbor = True\n",
    "            else:\n",
    "                neighbor_time.pop(best_neighbor_idx)\n",
    "        else:\n",
    "            founded_best_neighbor = True\n",
    "    \n",
    "    if founded_best_neighbor == False:\n",
    "        continue\n",
    "\n",
    "\n",
    "    # If better than best solution\n",
    "    action = neighbor_actions[best_neighbor_idx]\n",
    "    if neighbor_time[best_neighbor_idx] < t_best:  # type: ignore\n",
    "        t_best = neighbor_time[best_neighbor_idx]\n",
    "        x_best = TRANSFORMS[action['action']](x, action['indexes'][0],action['indexes'][1])\n",
    "    \n",
    "    x = TRANSFORMS[action['action']](x, action['indexes'][0],action['indexes'][1])\n",
    "    \n",
    "    tabu_list.push(action) \n"
   ]
  },
  {
   "cell_type": "code",
   "execution_count": 5,
   "metadata": {},
   "outputs": [
    {
     "name": "stdout",
     "output_type": "stream",
     "text": [
      "Started time: 1545.0\n",
      "Founded solution: 1360.0\n",
      "Low bound: 1290\n"
     ]
    }
   ],
   "source": [
    "print(\"Started time: {}\".format(c_t))\n",
    "print(\"Founded solution: {}\".format(t_best))\n",
    "print(\"Low bound: {}\".format(df.low_bound))"
   ]
  }
 ],
 "metadata": {
  "kernelspec": {
   "display_name": "Python 3.8.10 ('venv': venv)",
   "language": "python",
   "name": "python3"
  },
  "language_info": {
   "codemirror_mode": {
    "name": "ipython",
    "version": 3
   },
   "file_extension": ".py",
   "mimetype": "text/x-python",
   "name": "python",
   "nbconvert_exporter": "python",
   "pygments_lexer": "ipython3",
   "version": "3.8.10"
  },
  "orig_nbformat": 4,
  "vscode": {
   "interpreter": {
    "hash": "7e75d79e883c866ddabbc32950227de110813405bebf21600477bbcac5ee203e"
   }
  }
 },
 "nbformat": 4,
 "nbformat_minor": 2
}
